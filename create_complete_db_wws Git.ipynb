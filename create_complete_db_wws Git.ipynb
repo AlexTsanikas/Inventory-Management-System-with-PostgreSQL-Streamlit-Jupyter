{
 "cells": [
  {
   "cell_type": "markdown",
   "id": "f202408b",
   "metadata": {},
   "source": [
    "<span style=\"color: RoyalBlue; font-size: 18px;\"> **1. Import**</span><br>\n",
    "<span style=\"color: RoyalBlue; font-size: 14px;\"> *Bibliotheken: pyschog, toml, pandas*</span><br>"
   ]
  },
  {
   "cell_type": "code",
   "execution_count": null,
   "id": "16cbe746",
   "metadata": {},
   "outputs": [],
   "source": [
    "import psycopg\n",
    "import toml\n",
    "import pandas as pd"
   ]
  },
  {
   "cell_type": "markdown",
   "id": "dbe70058",
   "metadata": {},
   "source": [
    "<span style=\"color: RoyalBlue; font-size: 18px;\"> **2. Erstelle Datenbank 'wws'**</span><br>\n",
    "<span style=\"color: RoyalBlue; font-size: 14px;\"> *Einmaliger Code um Datenbank anzulegen*</span><br>"
   ]
  },
  {
   "cell_type": "code",
   "execution_count": null,
   "id": "f58043ad",
   "metadata": {},
   "outputs": [
    {
     "name": "stdout",
     "output_type": "stream",
     "text": [
      "Error: Datenbank »wws« existiert bereits\n"
     ]
    }
   ],
   "source": [
    "try:\n",
    "    secrets_db_create = toml.load(\"your project path\")\n",
    "\n",
    "    conn = psycopg.connect(\n",
    "        host=secrets_db_create[\"connections\"][\"postgres\"][\"host\"],\n",
    "        port=secrets_db_create[\"connections\"][\"postgres\"][\"port\"],\n",
    "        dbname=secrets_db_create[\"connections\"][\"postgres\"][\"dbname\"],\n",
    "        user=secrets_db_create[\"connections\"][\"postgres\"][\"user\"],\n",
    "        password=secrets_db_create[\"connections\"][\"postgres\"][\"password\"],\n",
    "        autocommit=True\n",
    "    )\n",
    "    \n",
    "    cur = conn.cursor()\n",
    "    cur.execute(\"CREATE DATABASE wws\")\n",
    "    conn.commit()\n",
    "    conn.close()\n",
    "\n",
    "except psycopg.Error as e:\n",
    "    print(\"Error:\", e)\n",
    "\n"
   ]
  },
  {
   "cell_type": "markdown",
   "id": "8e174eaa",
   "metadata": {},
   "source": [
    "<span style=\"color: RoyalBlue; font-size: 18px;\"> **3. Connection neue DB und erstelle erste Tabelle**</span><br>\n",
    "<span style=\"color: RoyalBlue; font-size: 14px;\"> *Tabelle: Kunden*</span><br>"
   ]
  },
  {
   "cell_type": "code",
   "execution_count": null,
   "id": "94edc689",
   "metadata": {},
   "outputs": [],
   "source": [
    "try:\n",
    "    secrets = toml.load(\"your project path\")\n",
    "\n",
    "    conn = psycopg.connect(\n",
    "        host=secrets[\"connections\"][\"postgres\"][\"host\"],\n",
    "        port=secrets[\"connections\"][\"postgres\"][\"port\"],\n",
    "        dbname=secrets[\"connections\"][\"postgres\"][\"dbname\"],\n",
    "        user=secrets[\"connections\"][\"postgres\"][\"user\"],\n",
    "        password=secrets[\"connections\"][\"postgres\"][\"password\"],\n",
    "        autocommit=True\n",
    "    )\n",
    "\n",
    "    cur = conn.cursor()\n",
    "    cur.execute(\"\"\"\n",
    "    CREATE TABLE IF NOT EXISTS Kunden (\n",
    "    Customer_Id INT PRIMARY KEY,\n",
    "    Vorname VARCHAR(50),\n",
    "    Nachname VARCHAR(50) NOT NULL,\n",
    "    Email VARCHAR(50),\n",
    "    Telefon VARCHAR(30),\n",
    "    Mobil VARCHAR (30),\n",
    "    Erstellt TIMESTAMP,\n",
    "    Anrede VARCHAR(10),\n",
    "    PLZ VARCHAR(10),\n",
    "    Ort VARCHAR(50),\n",
    "    Strasse VARCHAR(100),\n",
    "    Hausnummer VARCHAR(10)\n",
    ");\n",
    "\"\"\")\n",
    "    conn.commit\n",
    "\n",
    "except psycopg.Error as e:\n",
    "    print(\"Error:\", e)"
   ]
  },
  {
   "cell_type": "markdown",
   "id": "2952efc1",
   "metadata": {},
   "source": [
    "<span style=\"color: RoyalBlue; font-size: 18px;\"> **4. erstelle alle weiteren Tabellen**</span><br>\n",
    "<span style=\"color: RoyalBlue; font-size: 14px;\"> *Tabelle: Order, Payments, Produkte, Order_items*</span><br>"
   ]
  },
  {
   "cell_type": "code",
   "execution_count": 7,
   "id": "78ff7052",
   "metadata": {},
   "outputs": [
    {
     "data": {
      "text/plain": [
       "<bound method Connection.commit of <psycopg.Connection [IDLE] (host=localhost port=5433 user=postgres database=wws) at 0x155d7fc1d00>>"
      ]
     },
     "execution_count": 7,
     "metadata": {},
     "output_type": "execute_result"
    }
   ],
   "source": [
    "cur.execute(\"\"\"\n",
    "CREATE TABLE IF NOT EXISTS Produkte (\n",
    "    Produkt_Id INT PRIMARY KEY,\n",
    "    NAME VARCHAR(255),\n",
    "    Produktbeschreibung VARCHAR(255),\n",
    "    Preis NUMERIC(10,2),\n",
    "    Lagerbestand INT,\n",
    "    Kategorie_Id INT\n",
    ");\n",
    "\"\"\")\n",
    "conn.commit"
   ]
  },
  {
   "cell_type": "code",
   "execution_count": 8,
   "id": "2cdbd4e1",
   "metadata": {},
   "outputs": [
    {
     "data": {
      "text/plain": [
       "<bound method Connection.commit of <psycopg.Connection [IDLE] (host=localhost port=5433 user=postgres database=wws) at 0x155d7fc1d00>>"
      ]
     },
     "execution_count": 8,
     "metadata": {},
     "output_type": "execute_result"
    }
   ],
   "source": [
    "cur.execute(\"\"\"\n",
    "CREATE TABLE IF NOT EXISTS orders (\n",
    "    Bestell_Id SERIAL PRIMARY KEY,\n",
    "    Customer_id INT NOT NULL,\n",
    "    Bestelldatum TIMESTAMP NOT NULL,\n",
    "    Status VARCHAR(20) NOT NULL,\n",
    "    Gesamtbetrag_der_Bestellung NUMERIC(10,2) NOT NULL\n",
    "   \n",
    ");\n",
    "\"\"\")\n",
    "conn.commit"
   ]
  },
  {
   "cell_type": "code",
   "execution_count": 9,
   "id": "6ee94b7c",
   "metadata": {},
   "outputs": [
    {
     "data": {
      "text/plain": [
       "<bound method Connection.commit of <psycopg.Connection [IDLE] (host=localhost port=5433 user=postgres database=wws) at 0x155d7fc1d00>>"
      ]
     },
     "execution_count": 9,
     "metadata": {},
     "output_type": "execute_result"
    }
   ],
   "source": [
    "cur.execute(\"\"\"\n",
    "CREATE TABLE IF NOT EXISTS order_items (\n",
    "    Bestellartikel_ID INT PRIMARY KEY,\n",
    "    Bestell_Id INT NOT NULL,\n",
    "    Produkt_Id INT NOT NULL,\n",
    "    Bestellte_Menge INT NOT NULL,\n",
    "    Einzelpreis NUMERIC(10,2) NOT NULL\n",
    ");\n",
    "\"\"\")\n",
    "conn.commit"
   ]
  },
  {
   "cell_type": "code",
   "execution_count": 10,
   "id": "fe810668",
   "metadata": {},
   "outputs": [
    {
     "data": {
      "text/plain": [
       "<bound method Connection.commit of <psycopg.Connection [IDLE] (host=localhost port=5433 user=postgres database=wws) at 0x155d7fc1d00>>"
      ]
     },
     "execution_count": 10,
     "metadata": {},
     "output_type": "execute_result"
    }
   ],
   "source": [
    "cur.execute(\"\"\"\n",
    "CREATE TABLE IF NOT EXISTS payments (\n",
    "    Zahlungs_Id INT PRIMARY KEY,\n",
    "    Bestell_Id INT NOT NULL,\n",
    "    Zahlungsdatum TIMESTAMP NOT NULL,\n",
    "    Betrag NUMERIC(10,2) NOT NULL,\n",
    "    Zahlungsmethode VARCHAR(30)\n",
    ");\n",
    "\"\"\")\n",
    "conn.commit"
   ]
  },
  {
   "cell_type": "markdown",
   "id": "1540766c",
   "metadata": {},
   "source": [
    "<span style=\"color: RoyalBlue; font-size: 18px;\"> **5. Teste Tabelle**</span><br>"
   ]
  },
  {
   "cell_type": "code",
   "execution_count": 13,
   "id": "a9f486e0",
   "metadata": {},
   "outputs": [
    {
     "name": "stdout",
     "output_type": "stream",
     "text": [
      "Empty DataFrame\n",
      "Columns: [customer_id, vorname, nachname, email, telefon, mobil, erstellt, anrede, plz, ort, strasse, hausnummer]\n",
      "Index: []\n"
     ]
    }
   ],
   "source": [
    "#Test \n",
    "cur.execute('SELECT* FROM Kunden;')\n",
    "cur.fetchall()\n",
    "df_test = pd.DataFrame(cur.fetchall(), columns=[desc[0] for desc in cur.description])\n",
    "print(df_test.head(0))\n"
   ]
  },
  {
   "attachments": {
    "ERD.png": {
     "image/png": "[encoded data removed]"
    }
   },
   "cell_type": "markdown",
   "id": "da553c21",
   "metadata": {},
   "source": [
    "![ERD.png](attachment:ERD.png)"
   ]
  },
  {
   "cell_type": "markdown",
   "id": "ea9393f8",
   "metadata": {},
   "source": [
    "<span style=\"color: RoyalBlue; font-size: 18px;\"> **5. Erstelle Fremdschlüssel**</span><br>"
   ]
  },
  {
   "cell_type": "markdown",
   "id": "63375256",
   "metadata": {},
   "source": [
    "<span style=\"color: RoyalBlue; font-size: 14px;\"> **FS: customer_id | Table: orders <-> Kunden**</span><br>"
   ]
  },
  {
   "cell_type": "code",
   "execution_count": 35,
   "id": "cfdd380f",
   "metadata": {},
   "outputs": [
    {
     "name": "stdout",
     "output_type": "stream",
     "text": [
      "Fremdschlüssel ist schon da - \n",
      "ERROR: Constraint »fk_customer_id« existiert bereits für Relation »orders«\n"
     ]
    }
   ],
   "source": [
    "try: \n",
    "    cur.execute(\"ALTER TABLE orders ADD CONSTRAINT fk_customer_id FOREIGN KEY (customer_id) REFERENCES Kunden (customer_id)\")\n",
    "\n",
    "except psycopg.errors.DuplicateObject as e:\n",
    "    print(\"Fremdschlüssel ist schon da - \\nERROR:\",e)"
   ]
  },
  {
   "cell_type": "markdown",
   "id": "9481e178",
   "metadata": {},
   "source": [
    "<span style=\"color: RoyalBlue; font-size: 14px;\"> **FS: bestell_id | Table: payments <-> orders**</span><br>"
   ]
  },
  {
   "cell_type": "code",
   "execution_count": 36,
   "id": "ec0bfaab",
   "metadata": {},
   "outputs": [
    {
     "name": "stdout",
     "output_type": "stream",
     "text": [
      "Fremdschlüssel ist schon da - \n",
      "ERROR: Constraint »fk_bestell_id« existiert bereits für Relation »payments«\n"
     ]
    }
   ],
   "source": [
    "try: \n",
    "    cur.execute(\"ALTER TABLE payments ADD CONSTRAINT fk_bestell_id FOREIGN KEY (bestell_id) REFERENCES orders (bestell_id)\")\n",
    "\n",
    "except psycopg.errors.DuplicateObject as e:\n",
    "    print(\"Fremdschlüssel ist schon da - \\nERROR:\",e)"
   ]
  },
  {
   "cell_type": "markdown",
   "id": "4aab8057",
   "metadata": {},
   "source": [
    "<span style=\"color: RoyalBlue; font-size: 14px;\"> **FS: bestell_id | Table: order_items <-> orders**</span><br>"
   ]
  },
  {
   "cell_type": "code",
   "execution_count": 37,
   "id": "4b1c7108",
   "metadata": {},
   "outputs": [
    {
     "name": "stdout",
     "output_type": "stream",
     "text": [
      "Fremdschlüssel ist schon da - \n",
      "ERROR: Constraint »fk_bestell_id_2« existiert bereits für Relation »order_items«\n"
     ]
    }
   ],
   "source": [
    "try: \n",
    "    cur.execute(\"ALTER TABLE order_items ADD CONSTRAINT fk_bestell_id_2 FOREIGN KEY (bestell_id) REFERENCES orders (bestell_id)\")\n",
    "\n",
    "except psycopg.errors.DuplicateObject as e:\n",
    "    print(\"Fremdschlüssel ist schon da - \\nERROR:\",e)"
   ]
  },
  {
   "cell_type": "markdown",
   "id": "24bfc58e",
   "metadata": {},
   "source": [
    "<span style=\"color: RoyalBlue; font-size: 14px;\"> **FS: produkt_id | Table: order_items <-> produkte**</span><br>"
   ]
  },
  {
   "cell_type": "code",
   "execution_count": 38,
   "id": "d2c21b61",
   "metadata": {},
   "outputs": [
    {
     "name": "stdout",
     "output_type": "stream",
     "text": [
      "Fremdschlüssel ist schon da - \n",
      "ERROR: Constraint »fk_produkt_id« existiert bereits für Relation »order_items«\n"
     ]
    }
   ],
   "source": [
    "try: \n",
    "    cur.execute(\"ALTER TABLE order_items ADD CONSTRAINT fk_produkt_id FOREIGN KEY (produkt_id) REFERENCES produkte (produkt_id)\")\n",
    "\n",
    "except psycopg.errors.DuplicateObject as e:\n",
    "    print(\"Fremdschlüssel ist schon da - \\nERROR:\",e)"
   ]
  },
  {
   "cell_type": "markdown",
   "id": "315445f0",
   "metadata": {},
   "source": [
    "<span style=\"color: RoyalBlue; font-size: 18px;\"> **6. Füge Testdaten in die Tabellen**</span><br>\n",
    "<span style=\"color: RoyalBlue; font-size: 14px;\"> **Dataframes über csv erzeugen**</span><br>"
   ]
  },
  {
   "cell_type": "code",
   "execution_count": null,
   "id": "0031b0b5",
   "metadata": {},
   "outputs": [],
   "source": [
    "try:\n",
    "    df_customer = pd.read_csv(\"your file path\", sep=';')\n",
    "    df_order_items = pd.read_csv(\"your file path\", sep=';')\n",
    "    df_orders = pd.read_csv(\"your file path\", sep=';')\n",
    "    df_payments = pd.read_csv(\"your file path\", sep=';')\n",
    "    df_produkte = pd.read_csv(\"your file path\", sep=';')\n",
    "\n",
    "except FileNotFoundError as e:\n",
    "    print(\"Datei nicht gefunden:\", e)\n",
    "except pd.errors.ParserError as e:\n",
    "    print(\"Fehler beim einlesen, prüfe csv Inhalt:\", e)"
   ]
  },
  {
   "cell_type": "markdown",
   "id": "7acbec85",
   "metadata": {},
   "source": [
    "<span style=\"color: RoyalBlue; font-size: 14px;\"> **DataFrame in Tupels umwandeln**</span><br>"
   ]
  },
  {
   "cell_type": "code",
   "execution_count": 20,
   "id": "ef832036",
   "metadata": {},
   "outputs": [],
   "source": [
    "try:\n",
    "    df_customer_tupels = list(df_customer.itertuples(index=False, name=None))\n",
    "    df_order_items_tupels = list(df_order_items.itertuples(index=False, name=None)) \n",
    "    df_orders_tupels = list(df_orders.itertuples(index=False, name=None))\n",
    "    df_payment_tupels = list(df_payments.itertuples(index=False, name=None)) \n",
    "    df_produkte_tupels = list(df_produkte.itertuples(index=False, name=None))\n",
    "    \n",
    "except Exception as e:\n",
    "    print(e)\n",
    "    print('Fehler bei der Iteration der Tuples')\n",
    " "
   ]
  },
  {
   "cell_type": "markdown",
   "id": "83d687f3",
   "metadata": {},
   "source": [
    "<span style=\"color: RoyalBlue; font-size: 14px;\"> **Tabelle Kunde - Daten aus CSV einfügen** <br> "
   ]
  },
  {
   "cell_type": "code",
   "execution_count": 21,
   "id": "715c4ce1",
   "metadata": {},
   "outputs": [
    {
     "name": "stdout",
     "output_type": "stream",
     "text": [
      "['customer_id', 'vorname', 'nachname', 'email', 'telefon', 'mobil', 'erstellt', 'anrede', 'plz', 'ort', 'strasse', 'hausnummer']\n"
     ]
    }
   ],
   "source": [
    "# Abruf der Spaltennamen aus der Tabelle Kunden\n",
    "cur.execute(\"SELECT * FROM Kunden LIMIT 1;\")\n",
    "column_names = [desc[0] for desc in cur.description]\n",
    "print(column_names)"
   ]
  },
  {
   "cell_type": "code",
   "execution_count": null,
   "id": "91cd5d3f",
   "metadata": {},
   "outputs": [],
   "source": [
    "#Werte in die Tabelle Kunden einfügen mit den angegebenen Spalten\n",
    "\n",
    "sql = \"\"\"\n",
    "INSERT INTO Kunden (customer_id, Anrede, Vorname , Nachname, PLZ, Ort, Strasse, Hausnummer, Telefon, Email, Mobil, Erstellt)\n",
    "VALUES (%s, %s, %s, %s, %s, %s, %s, %s, %s, %s, %s, %s);\n",
    "\"\"\"\n",
    "\n",
    "cur.executemany(sql, df_customer_tupels)\n",
    "conn.commit()\n"
   ]
  },
  {
   "cell_type": "markdown",
   "id": "35cbc62c",
   "metadata": {},
   "source": [
    "<span style=\"color: RoyalBlue; font-size: 14px;\"> **Tabelle Orders - Daten aus CSV einfügen** <br> "
   ]
  },
  {
   "cell_type": "code",
   "execution_count": 22,
   "id": "d70604ba",
   "metadata": {},
   "outputs": [
    {
     "name": "stdout",
     "output_type": "stream",
     "text": [
      "['bestell_id', 'customer_id', 'bestelldatum', 'status', 'gesamtbetrag_der_bestellung']\n"
     ]
    }
   ],
   "source": [
    "# Abruf der Spaltennamen aus der Tabelle Orders\n",
    "cur.execute(\"SELECT * FROM Orders LIMIT 1;\")\n",
    "column_names = [desc[0] for desc in cur.description]\n",
    "print(column_names)"
   ]
  },
  {
   "cell_type": "code",
   "execution_count": null,
   "id": "722fb0c0",
   "metadata": {},
   "outputs": [],
   "source": [
    "# Werte in die Tabelle order items einfügen mit den angegebenen Spalten\n",
    "#Anzahl der Spalten in jedem Tupel muss exakt zu den Platzhaltern passen\n",
    "sql_orders = \"\"\"\n",
    "INSERT INTO orders (Customer_id, Bestell_Id, Bestelldatum, Status, Gesamtbetrag_der_Bestellung) \n",
    "VALUES (%s, %s, %s, %s, %s)\n",
    ";\n",
    "\"\"\"\n",
    "\n",
    "cur.executemany(sql_orders, df_orders_tupels)"
   ]
  },
  {
   "cell_type": "markdown",
   "id": "fcae7ba2",
   "metadata": {},
   "source": [
    "<span style=\"color: RoyalBlue; font-size: 14px;\"> **Tabelle Payments - Daten aus CSV einfügen** <br> "
   ]
  },
  {
   "cell_type": "code",
   "execution_count": 23,
   "id": "292ff93c",
   "metadata": {},
   "outputs": [
    {
     "name": "stdout",
     "output_type": "stream",
     "text": [
      "['zahlungs_id', 'bestell_id', 'zahlungsdatum', 'betrag', 'zahlungsmethode']\n"
     ]
    }
   ],
   "source": [
    "# Abruf der Spaltennamen aus der Tabelle Payments\n",
    "cur.execute(\"SELECT * FROM Payments LIMIT 1;\")\n",
    "column_names = [desc[0] for desc in cur.description]\n",
    "print(column_names)"
   ]
  },
  {
   "cell_type": "code",
   "execution_count": null,
   "id": "3d6ce961",
   "metadata": {},
   "outputs": [],
   "source": [
    "# Werte in die Tabelle orders einfügen mit den angegebenen Spalten\n",
    "\n",
    "sql_payments = \"\"\"\n",
    "INSERT INTO payments (Zahlungs_Id, Bestell_Id, Zahlungsdatum, Betrag, Zahlungsmethode)\n",
    "VALUES ( %s, %s, %s, %s, %s)\n",
    ";\n",
    "\"\"\"\n",
    "\n",
    "\n",
    "cur.executemany(sql_payments, df_payment_tupels)"
   ]
  },
  {
   "cell_type": "markdown",
   "id": "387a0c22",
   "metadata": {},
   "source": [
    "<span style=\"color: RoyalBlue; font-size: 14px;\"> **Tabelle Produkte - Daten aus CSV einfügen** <br> "
   ]
  },
  {
   "cell_type": "code",
   "execution_count": 24,
   "id": "e8d236fc",
   "metadata": {},
   "outputs": [
    {
     "name": "stdout",
     "output_type": "stream",
     "text": [
      "['produkt_id', 'name', 'produktbeschreibung', 'preis', 'lagerbestand', 'kategorie_id']\n"
     ]
    }
   ],
   "source": [
    "# Abruf der Spaltennamen aus der Tabelle Produkte\n",
    "cur.execute(\"SELECT * FROM Produkte LIMIT 1;\")\n",
    "column_names = [desc[0] for desc in cur.description]\n",
    "print(column_names)"
   ]
  },
  {
   "cell_type": "code",
   "execution_count": null,
   "id": "eb1f97fe",
   "metadata": {},
   "outputs": [],
   "source": [
    "# Werte in die Tabelle orders einfügen mit den angegebenen Spalten\n",
    "\n",
    "sql_produkte = \"\"\"\n",
    "INSERT INTO Produkte (Produkt_Id, Name, Produktbeschreibung, Preis, Lagerbestand, Kategorie_Id)\n",
    "VALUES ( %s, LEFT(%s,255), LEFT(%s,255), %s, %s, %s)\n",
    ";\n",
    "\"\"\"\n",
    "\n",
    "\n",
    "cur.executemany(sql_produkte, df_produkte_tupels)"
   ]
  },
  {
   "cell_type": "markdown",
   "id": "f6efe0cc",
   "metadata": {},
   "source": [
    "<span style=\"color: RoyalBlue; font-size: 14px;\"> **Tabelle Order_items - Daten aus CSV einfügen** <br> "
   ]
  },
  {
   "cell_type": "code",
   "execution_count": 25,
   "id": "39bb2a20",
   "metadata": {},
   "outputs": [
    {
     "name": "stdout",
     "output_type": "stream",
     "text": [
      "['bestellartikel_id', 'bestell_id', 'produkt_id', 'bestellte_menge', 'einzelpreis']\n"
     ]
    }
   ],
   "source": [
    "# Abruf der Spaltennamen aus der Tabelle Order_items\n",
    "cur.execute(\"SELECT * FROM Order_items LIMIT 1;\")\n",
    "column_names = [desc[0] for desc in cur.description]\n",
    "print(column_names)"
   ]
  },
  {
   "cell_type": "code",
   "execution_count": null,
   "id": "13ba830a",
   "metadata": {},
   "outputs": [],
   "source": [
    "# Werte in die Tabelle orders einfügen mit den angegebenen Spalten\n",
    "\n",
    "sql_order_items = \"\"\"\n",
    "INSERT INTO order_items (Bestellartikel_Id, Bestell_Id, Produkt_Id, Bestellte_Menge, Einzelpreis)\n",
    "VALUES (%s, %s, %s, %s, %s)\n",
    ";\n",
    "\"\"\"\n",
    "\n",
    "cur.executemany(sql_order_items, df_order_items_tupels)"
   ]
  },
  {
   "cell_type": "code",
   "execution_count": 31,
   "id": "76b5c6a9",
   "metadata": {},
   "outputs": [
    {
     "name": "stdout",
     "output_type": "stream",
     "text": [
      "(7800174, 1, datetime.datetime(2025, 7, 3, 21, 28), 'offen', Decimal('50.20'))\n",
      "(7800175, 2, datetime.datetime(2025, 7, 16, 5, 58), 'offen', Decimal('21.90'))\n",
      "(7800176, 3, datetime.datetime(2025, 5, 12, 6, 7), 'offen', Decimal('17.99'))\n",
      "(7800177, 4, datetime.datetime(2025, 6, 8, 6, 18), 'In Bearbeitung', Decimal('70.80'))\n",
      "(7800178, 5, datetime.datetime(2025, 5, 11, 23, 16), 'In Bearbeitung', Decimal('89.80'))\n",
      "(7800179, 6, datetime.datetime(2025, 6, 21, 11, 38), 'offen', Decimal('17.10'))\n",
      "(7800180, 7, datetime.datetime(2025, 7, 4, 11, 20), 'offen', Decimal('70.81'))\n",
      "(7800181, 8, datetime.datetime(2025, 6, 23, 13, 31), 'offen', Decimal('199.90'))\n",
      "(7800182, 9, datetime.datetime(2025, 6, 8, 11, 30), 'In Bearbeitung', Decimal('259.99'))\n",
      "(7800183, 10, datetime.datetime(2025, 5, 9, 23, 7), 'In Bearbeitung', Decimal('108.50'))\n",
      "(7800184, 11, datetime.datetime(2025, 6, 9, 8, 28), 'offen', Decimal('108.60'))\n",
      "(7800185, 12, datetime.datetime(2025, 6, 2, 21, 20), 'offen', Decimal('999.99'))\n",
      "(7800186, 13, datetime.datetime(2025, 6, 30, 19, 0), 'bezahlt', Decimal('50.90'))\n",
      "(7800187, 14, datetime.datetime(2025, 5, 17, 12, 5), 'offen', Decimal('999.10'))\n",
      "(7800188, 15, datetime.datetime(2025, 7, 22, 7, 52), 'bezahlt', Decimal('308.96'))\n"
     ]
    }
   ],
   "source": [
    "#Test\n",
    "cur.execute(\"SELECT * FROM orders;\")\n",
    "rows = cur.fetchall()[0:15]\n",
    "for row in rows:\n",
    "    print(row)"
   ]
  },
  {
   "cell_type": "code",
   "execution_count": 32,
   "id": "3b90530f",
   "metadata": {},
   "outputs": [],
   "source": [
    "# Schließe die Verbindung\n",
    "cur.close()      \n",
    "conn.close()  "
   ]
  }
 ],
 "metadata": {
  "kernelspec": {
   "display_name": "base",
   "language": "python",
   "name": "python3"
  },
  "language_info": {
   "codemirror_mode": {
    "name": "ipython",
    "version": 3
   },
   "file_extension": ".py",
   "mimetype": "text/x-python",
   "name": "python",
   "nbconvert_exporter": "python",
   "pygments_lexer": "ipython3",
   "version": "3.12.3"
  }
 },
 "nbformat": 4,
 "nbformat_minor": 5
}
